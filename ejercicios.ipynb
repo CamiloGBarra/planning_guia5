{
 "cells": [
  {
   "cell_type": "markdown",
   "metadata": {},
   "source": [
    "# GUÍA DE EJERCICIOS 5\n",
    "\n",
    "## Introducción a las técnicas inteligentes de resolución de problemas de planificación, secuenciación y ejecución\n",
    "\n",
    "### Maestría en Aplicaciones de Información Espacial\n",
    "\n",
    "#### Barra, Camilo Giuliano"
   ]
  },
  {
   "cell_type": "markdown",
   "metadata": {},
   "source": [
    "1) Escriba un programa en Python que imprima en consola el recorrido de una lista cuyos valores son: \n",
    "mascotas=[“perro”,”gato”, “loro”]"
   ]
  },
  {
   "cell_type": "code",
   "execution_count": 14,
   "metadata": {},
   "outputs": [
    {
     "name": "stdout",
     "output_type": "stream",
     "text": [
      "La siguiente mascota es: perro\n",
      "La siguiente mascota es: gato\n",
      "La siguiente mascota es: loro\n",
      "Estas son todas las mascotas que tengo\n"
     ]
    }
   ],
   "source": [
    "mascotas = [\"perro\", \"gato\", \"loro\"]\n",
    "\n",
    "for mascota in mascotas:\n",
    "    print(\"La siguiente mascota es: \" + mascota)\n",
    "\n",
    "print(\"Estas son todas las mascotas que tengo\")"
   ]
  },
  {
   "cell_type": "markdown",
   "metadata": {},
   "source": [
    "2) Utilice la librería os para listar todos los directorios dentro del directorio “/dev”"
   ]
  },
  {
   "cell_type": "code",
   "execution_count": 18,
   "metadata": {},
   "outputs": [
    {
     "name": "stdout",
     "output_type": "stream",
     "text": [
      "DriverData\n",
      "el-GR\n",
      "en-GB\n",
      "en-US\n",
      "es-ES\n",
      "es-MX\n",
      "etc\n",
      "he-IL\n",
      "mde\n",
      "pt-PT\n",
      "ru-RU\n",
      "UMDF\n",
      "wd\n"
     ]
    },
    {
     "name": "stderr",
     "output_type": "stream",
     "text": [
      "<>:4: SyntaxWarning: invalid escape sequence '\\W'\n",
      "<>:4: SyntaxWarning: invalid escape sequence '\\W'\n",
      "C:\\Users\\camil\\AppData\\Local\\Temp\\ipykernel_7688\\105103385.py:4: SyntaxWarning: invalid escape sequence '\\W'\n",
      "  directorio = 'C:\\Windows\\System32\\drivers'\n"
     ]
    }
   ],
   "source": [
    "import os\n",
    "\n",
    "#acá se define el directorio\n",
    "directorio = 'C:\\Windows\\System32\\drivers'\n",
    "\n",
    "#se obtienen los elementos del directorio\n",
    "elementos = os.listdir(directorio)\n",
    "\n",
    "#se filtran los directorios\n",
    "directorios = [elemento for elemento in elementos if os.path.isdir(os.path.join(directorio, elemento))]\n",
    "\n",
    "#se imprimen los directorios\n",
    "for directorio in directorios:\n",
    "    print(directorio)"
   ]
  },
  {
   "cell_type": "markdown",
   "metadata": {},
   "source": [
    "3) Haga un programa en python donde tome dos valores de entrada: sueldo y rango. Con ello, calcule la asignación que percibirá el empleado, considerando la siguiente tabla: \n",
    "\n",
    "RANGO ;   FÓRMULA\n",
    "1        sueldo x 0.83\n",
    "2        sueldo x 1.2\n",
    "3        sueldo x 5"
   ]
  },
  {
   "cell_type": "code",
   "execution_count": 20,
   "metadata": {},
   "outputs": [
    {
     "name": "stdout",
     "output_type": "stream",
     "text": [
      "Sueldo:  120000.0\n"
     ]
    }
   ],
   "source": [
    "sueldo = float(input(\"Ingrese el sueldo: \"))\n",
    "rango = int(input(\"Ingrese el rango (1, 2 o 3): \"))\n",
    "\n",
    "if rango == 1:\n",
    "    sueldo = sueldo * 0.83\n",
    "elif rango == 2:\n",
    "    sueldo = sueldo * 1.2\n",
    "elif rango == 3:\n",
    "    sueldo = sueldo * 5\n",
    "else:\n",
    "    print(\"Rango no valido\")\n",
    "\n",
    "print(\"Sueldo: \", sueldo)"
   ]
  },
  {
   "cell_type": "markdown",
   "metadata": {},
   "source": [
    "4) Reemplace el ejercicio 3 por una implementación con parámetros pasados por consola usando la librería sys."
   ]
  },
  {
   "cell_type": "code",
   "execution_count": 21,
   "metadata": {},
   "outputs": [
    {
     "ename": "ValueError",
     "evalue": "could not convert string to float: '--f=c:\\\\Users\\\\camil\\\\AppData\\\\Roaming\\\\jupyter\\\\runtime\\\\kernel-v2-10908wp7uqbLEvpfE.json'",
     "output_type": "error",
     "traceback": [
      "\u001b[1;31m---------------------------------------------------------------------------\u001b[0m",
      "\u001b[1;31mValueError\u001b[0m                                Traceback (most recent call last)",
      "Cell \u001b[1;32mIn[21], line 3\u001b[0m\n\u001b[0;32m      1\u001b[0m \u001b[38;5;28;01mimport\u001b[39;00m \u001b[38;5;21;01msys\u001b[39;00m\n\u001b[1;32m----> 3\u001b[0m sueldo \u001b[38;5;241m=\u001b[39m \u001b[38;5;28;43mfloat\u001b[39;49m\u001b[43m(\u001b[49m\u001b[43msys\u001b[49m\u001b[38;5;241;43m.\u001b[39;49m\u001b[43margv\u001b[49m\u001b[43m[\u001b[49m\u001b[38;5;241;43m1\u001b[39;49m\u001b[43m]\u001b[49m\u001b[43m)\u001b[49m\n\u001b[0;32m      4\u001b[0m rango \u001b[38;5;241m=\u001b[39m \u001b[38;5;28mint\u001b[39m(sys\u001b[38;5;241m.\u001b[39margv[\u001b[38;5;241m2\u001b[39m])\n\u001b[0;32m      6\u001b[0m \u001b[38;5;28;01mif\u001b[39;00m rango \u001b[38;5;241m==\u001b[39m \u001b[38;5;241m1\u001b[39m:\n",
      "\u001b[1;31mValueError\u001b[0m: could not convert string to float: '--f=c:\\\\Users\\\\camil\\\\AppData\\\\Roaming\\\\jupyter\\\\runtime\\\\kernel-v2-10908wp7uqbLEvpfE.json'"
     ]
    }
   ],
   "source": [
    "import sys\n",
    "\n",
    "sueldo = float(sys.argv[1])\n",
    "rango = int(sys.argv[2])\n",
    "\n",
    "if rango == 1:\n",
    "    sueldo = sueldo * 0.83\n",
    "elif rango == 2:\n",
    "    sueldo = sueldo * 1.2\n",
    "elif rango == 3:\n",
    "    sueldo = sueldo * 5\n",
    "else:\n",
    "    print(\"Rango no valido\")\n",
    "    sys.exit(1)\n",
    "\n",
    "print(\"Sueldo: \", sueldo)\n",
    "\n",
    "\"\"\"\n",
    "Ejemplos de ejecución en la terminal: hay que usar el comando \"python ejercicio4.py <sueldo> <rango>\"\n",
    "\n",
    "C:\\Users\\camil\\Downloads\\MAIE\\Introducción a las técnicas inteligentes de resolución de problemas \n",
    "de planificación, secuenciación y ejecución\\Semana 3\\Barra, Camilo - Guia 5>\n",
    "python ejercicio4.py 50000 2\n",
    "Sueldo:  60000.0\n",
    "\n",
    "C:\\Users\\camil\\Downloads\\MAIE\\Introducción a las técnicas inteligentes de resolución de problemas \n",
    "de planificación, secuenciación y ejecución\\Semana 3\\Barra, Camilo - Guia 5>\n",
    "python ejercicio4.py 50000 4\n",
    "Rango no valido\n",
    "\"\"\""
   ]
  },
  {
   "cell_type": "markdown",
   "metadata": {},
   "source": [
    "5) Cree un programa en BASH, que invoque a tres programas en python, donde cada uno es un contador (con avance cada un segundo) hasta un número que se pase por entrada. Cada programa en python debe imprimir el contador segundo-a-segundo. \n",
    "a. Identifique el PID de cada proceso python \n",
    "b. ¿Los procesos de ejecutan de manera secuencial?, ¿Cómo hacer para que corran todos a la vez?"
   ]
  },
  {
   "cell_type": "markdown",
   "metadata": {},
   "source": [
    "###Script de python"
   ]
  },
  {
   "cell_type": "code",
   "execution_count": null,
   "metadata": {},
   "outputs": [],
   "source": [
    "import sys\n",
    "import time #esta librería se utiliza para medir el tiempo de ejecución\n",
    "\n",
    "#Se verifica que se haya ingresado un argumento\n",
    "if len(sys.argv) != 2:\n",
    "    print(\"Uso: python ejercicio5_paralelo.py <numero>\")\n",
    "    sys.exit(1)\n",
    "\n",
    "#Se verifica que el argumento sea un número entero positivo\n",
    "try:\n",
    "    numero = int(sys.argv[1])\n",
    "    if numero <= 0:\n",
    "        raise ValueError\n",
    "except ValueError:\n",
    "    print(\"El argumento debe ser un número entero positivo.\")\n",
    "    sys.exit(1)\n",
    "\n",
    "#Se imprime el contador\n",
    "for i in range(1, numero + 1):\n",
    "    print(f\"Contador {i}\")\n",
    "    time.sleep(1) #se detiene la ejecución del programa por 1 segundo"
   ]
  },
  {
   "cell_type": "markdown",
   "metadata": {},
   "source": [
    "#### El siguiente script Bash es para ejecutar el contador de manera simultánea. \n",
    "Para lograr esto se usa el parámetro \"&\""
   ]
  },
  {
   "cell_type": "code",
   "execution_count": null,
   "metadata": {},
   "outputs": [],
   "source": [
    "#!/bin/bash\n",
    "\n",
    "# $1 es el primer argumento pasado \n",
    "#al bash que será el número hasta el cual los \n",
    "#contadores deben contar.\n",
    "numero=$1\n",
    "\n",
    "if [ -z \"$numero\" ]; then\n",
    "    echo \"Uso: $0 <numero>\"\n",
    "    exit 1\n",
    "fi\n",
    "\n",
    "#se ejecutan 3 instancias del script en paralelo\n",
    "python ejercicio5.py $numero &\n",
    "pid1=$!\n",
    "python ejercicio5.py $numero &\n",
    "pid2=$!\n",
    "python ejercicio5.py $numero &\n",
    "pid3=$!\n",
    "\n",
    "#se imprimen los pid de los procesos\n",
    "echo \"PID de contador1: $pid1\"\n",
    "echo \"PID de contador2: $pid2\"\n",
    "echo \"PID de contador3: $pid3\"\n",
    "\n",
    "#se espera a que los procesos terminen...\n",
    "#wait se usa para esperar a que todos los procesos \n",
    "#secundarios finalicen antes de finalizar el script \n",
    "#de bash.\n",
    "wait $pid1\n",
    "wait $pid2\n",
    "wait $pid3\n",
    "\n",
    "#Para ejecutarlo:\n",
    "#Desde la terminal, navegar al directorio donde se guardó \n",
    "#ejercicio5.sh y ejecutar:\n",
    "# chmod +x ejercicio5.sh\n",
    "\n",
    "# ahora se puede ejecutar el bash pasando un número hasta\n",
    "# el cual los contadores deben contar. Por ejemplo, para\n",
    "# contar hasta 10, se ejecuta:\n",
    "# ./ejercicio5.sh 10"
   ]
  },
  {
   "cell_type": "markdown",
   "metadata": {},
   "source": [
    "Resultado:\n",
    "\n",
    "camil@Camilo MINGW64 ~/Downloads/MAIE/Introducción a las técnicas inteligentes de resolución de problemas de planificación, secuenciación y ejecución/Semana 3/Barra, Camilo - Guia 5\n",
    "$ ./ejercicio5.sh 10\n",
    "PID de contador1: 1576\n",
    "PID de contador2: 1577\n",
    "PID de contador3: 1578\n",
    "Contador 1\n",
    "Contador 1\n",
    "Contador 1\n",
    "Contador 2\n",
    "Contador 2\n",
    "Contador 2\n",
    "Contador 3\n",
    "Contador 3\n",
    "Contador 3\n",
    "Contador 4\n",
    "Contador 4\n",
    "Contador 4\n",
    "Contador 5\n",
    "Contador 5\n",
    "Contador 5\n",
    "Contador 6\n",
    "Contador 6\n",
    "Contador 6\n",
    "Contador 7\n",
    "Contador 7\n",
    "Contador 7\n",
    "Contador 8\n",
    "Contador 8\n",
    "Contador 8\n",
    "Contador 9\n",
    "Contador 9\n",
    "Contador 9\n",
    "Contador 10\n",
    "Contador 10\n",
    "Contador 10"
   ]
  },
  {
   "cell_type": "markdown",
   "metadata": {},
   "source": [
    "Interpretación:\n",
    "\n",
    "Ejecución en Paralelo: Los scripts de Python se están ejecutando simultáneamente, no uno tras otro. Esto se evidencia en la salida mezclada.\n",
    "\n",
    "Sincronización: Aunque los procesos se ejecutan en paralelo, la impresión en la consola puede parecer sincronizada porque todos los scripts de Python están realizando la misma acción (imprimir y dormir por un segundo) al mismo tiempo.\n",
    "\n",
    "Identificación de Procesos: Los PIDs te permiten identificar y, si fuera necesario, gestionar estos procesos mientras están en ejecución. Por ejemplo, podrías usar estos PIDs para terminar manualmente uno de los procesos si fuera necesario usando comandos como kill en un entorno Unix."
   ]
  },
  {
   "cell_type": "markdown",
   "metadata": {},
   "source": [
    "#### El siguiente script Bash es para ejecutar el contador de manera secuencial. \n",
    "Este script de Bash ejecuta cada instancia del script de Python en segundo plano para obtener el PID, espera a que termine (wait $pid), y luego ejecuta el siguiente script. Esto permite obtener el PID correctamente y asegura que los scripts se ejecuten secuencialmente."
   ]
  },
  {
   "cell_type": "code",
   "execution_count": null,
   "metadata": {},
   "outputs": [],
   "source": [
    "#!/bin/bash\n",
    "\n",
    "# Obtener el argumento\n",
    "numero=$1\n",
    "\n",
    "# Verificar si se pasó un argumento\n",
    "if [ -z \"$numero\" ]; then\n",
    "    echo \"Uso: $0 <numero>\"\n",
    "    exit 1\n",
    "fi\n",
    "\n",
    "# Ejecutar el script de Python tres veces de manera secuencial\n",
    "python ejercicio5.py $numero &\n",
    "pid1=$!\n",
    "echo \"PID de contador1: $pid1\"\n",
    "wait $pid1\n",
    "\n",
    "python ejercicio5.py $numero &\n",
    "pid2=$!\n",
    "echo \"PID de contador2: $pid2\"\n",
    "wait $pid2\n",
    "\n",
    "python ejercicio5.py $numero &\n",
    "pid3=$!\n",
    "echo \"PID de contador3: $pid3\"\n",
    "wait $pid3\n",
    "\n",
    "#Para ejecutarlo:\n",
    "#Desde la terminal, navegar al directorio donde se guardó \n",
    "#ejercicio5.sh y ejecutar:\n",
    "# chmod +x ejercicio5.sh\n",
    "\n",
    "# ahora se puede ejecutar el bash pasando un número hasta\n",
    "# el cual los contadores deben contar. Por ejemplo, para\n",
    "# contar hasta 10, se ejecuta:\n",
    "# ./ejercicio5.sh 10"
   ]
  },
  {
   "cell_type": "markdown",
   "metadata": {},
   "source": [
    "Resultado: \n",
    "\n",
    "camil@Camilo MINGW64 ~/Downloads/MAIE/Introducción a las técnicas inteligentes de resolución de problemas de planificación, secuenciación y ejecución/Semana 3/Barra, Camilo - Guia 5\n",
    "$ ./ejercicio5_secuencial.sh 10\n",
    "PID de contador1: 1247\n",
    "Contador 1\n",
    "Contador 2\n",
    "Contador 3\n",
    "Contador 4\n",
    "Contador 5\n",
    "Contador 6\n",
    "Contador 7\n",
    "Contador 8\n",
    "Contador 9\n",
    "Contador 10\n",
    "PID de contador2: 1248\n",
    "Contador 1\n",
    "Contador 2\n",
    "Contador 3\n",
    "Contador 4\n",
    "Contador 5\n",
    "Contador 6\n",
    "Contador 7\n",
    "Contador 8\n",
    "Contador 9\n",
    "Contador 10\n",
    "PID de contador3: 1249\n",
    "Contador 1\n",
    "Contador 2\n",
    "Contador 3\n",
    "Contador 4\n",
    "Contador 5\n",
    "Contador 6\n",
    "Contador 7\n",
    "Contador 8\n",
    "Contador 9\n",
    "Contador 10"
   ]
  },
  {
   "cell_type": "markdown",
   "metadata": {},
   "source": [
    "6) Crea un programa que simule una calculadora simple con funciones para suma, resta, multiplicación y división."
   ]
  },
  {
   "cell_type": "code",
   "execution_count": 1,
   "metadata": {},
   "outputs": [
    {
     "name": "stdout",
     "output_type": "stream",
     "text": [
      "Calculadora\n",
      "1. Suma\n",
      "2. Resta\n",
      "3. Multiplicacion\n",
      "4. Division\n",
      "Resultado: 23.0 - 32.0 = -9.0\n",
      "Hasta luego\n"
     ]
    }
   ],
   "source": [
    "#Funciones\n",
    "\n",
    "def suma(a, b):\n",
    "    return a + b\n",
    "\n",
    "def resta(a, b):\n",
    "    return a - b\n",
    "\n",
    "def multiplicacion(a, b):\n",
    "    return a * b\n",
    "\n",
    "def division(a, b):\n",
    "    if b == 0:\n",
    "        return \"No se puede dividir por 0\"\n",
    "    return a / b\n",
    "\n",
    "def calculadora():\n",
    "    print(\"Calculadora\")\n",
    "    print(\"1. Suma\")\n",
    "    print(\"2. Resta\")\n",
    "    print(\"3. Multiplicacion\")\n",
    "    print(\"4. Division\")\n",
    "\n",
    "    opcion = input(\"Elija una opción (1/2/3/4): \")\n",
    "\n",
    "    if opcion in ['1', '2', '3', '4']:\n",
    "        num1 = float(input(\"Ingresa el primer número: \"))\n",
    "        num2 = float(input(\"Ingresa el segundo número: \"))\n",
    "\n",
    "        if opcion == '1':\n",
    "            print(f\"Resultado: {num1} + {num2} = {suma(num1, num2)}\")\n",
    "        elif opcion == '2':\n",
    "            print(f\"Resultado: {num1} - {num2} = {resta(num1, num2)}\")\n",
    "        elif opcion == '3':\n",
    "            print(f\"Resultado: {num1} * {num2} = {multiplicacion(num1, num2)}\")\n",
    "        elif opcion == '4':\n",
    "            print(f\"Resultado: {num1} / {num2} = {division(num1, num2)}\")\n",
    "    else:\n",
    "        print(\"Operación no válida. Por favor, intente de nuevo eligiendo un número del 1 al 4.\")\n",
    "\n",
    "    otra_vez = input(\"Vas a hacer otra operación? (s/n): \")\n",
    "    if otra_vez.lower() == \"s\":\n",
    "        calculadora()\n",
    "    else:\n",
    "        print(\"Hasta luego\")\n",
    "\n",
    "#se ejecuta\n",
    "calculadora()"
   ]
  },
  {
   "cell_type": "markdown",
   "metadata": {},
   "source": [
    "7) Cree un programa en Python que imprima la hora del sistema, estado de memoria RAM y almacenamiento disponible en la partición montada en “/”."
   ]
  },
  {
   "cell_type": "code",
   "execution_count": 2,
   "metadata": {},
   "outputs": [
    {
     "name": "stdout",
     "output_type": "stream",
     "text": [
      "Hora del sistema: 2024-05-14 13:35:45\n",
      "Memoria RAM disponible: 8.038829803466797 GB\n",
      "Almacenamiento disponible en la partición '/': 139.11661529541016 GB\n"
     ]
    }
   ],
   "source": [
    "import psutil\n",
    "from datetime import datetime\n",
    "\n",
    "# hora del sistema\n",
    "hora_actual = datetime.now().strftime(\"%Y-%m-%d %H:%M:%S\")\n",
    "print(\"Hora del sistema:\", hora_actual)\n",
    "\n",
    "# memoria RAM\n",
    "estado_memoria = psutil.virtual_memory()\n",
    "print(\"Memoria RAM disponible:\", estado_memoria.available / (1024 ** 3), \"GB\") #para convertir a GB, ** es el potencia\n",
    "\n",
    "# almacenamiento\n",
    "almacenamiento = psutil.disk_usage('/')\n",
    "print(\"Almacenamiento disponible en la partición '/':\", almacenamiento.free / (1024 ** 3), \"GB\")\n"
   ]
  }
 ],
 "metadata": {
  "kernelspec": {
   "display_name": "Python 3",
   "language": "python",
   "name": "python3"
  },
  "language_info": {
   "codemirror_mode": {
    "name": "ipython",
    "version": 3
   },
   "file_extension": ".py",
   "mimetype": "text/x-python",
   "name": "python",
   "nbconvert_exporter": "python",
   "pygments_lexer": "ipython3",
   "version": "3.12.3"
  }
 },
 "nbformat": 4,
 "nbformat_minor": 2
}
